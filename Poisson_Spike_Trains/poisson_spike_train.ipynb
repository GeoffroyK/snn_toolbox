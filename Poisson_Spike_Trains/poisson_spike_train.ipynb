{
 "cells": [
  {
   "cell_type": "markdown",
   "id": "8fd584e6-757a-4b19-9b1e-f7c0a1083995",
   "metadata": {},
   "source": [
    "# Simple Poisson spike-train"
   ]
  },
  {
   "cell_type": "code",
   "execution_count": 32,
   "id": "645546e8-1b40-4bbc-b9ad-29bf046bd971",
   "metadata": {},
   "outputs": [],
   "source": [
    "import numpy as np\n",
    "import matplotlib.pyplot as plt\n",
    "from scipy import special\n",
    "\n",
    "from units import unit\n",
    "\n",
    "%matplotlib inline"
   ]
  },
  {
   "cell_type": "code",
   "execution_count": 33,
   "id": "c683dd2d-b452-41f8-a91a-3172b6bbbe21",
   "metadata": {},
   "outputs": [],
   "source": [
    "rate = 0.1\n",
    "bin_size = 0.1\n",
    "tmax = 100"
   ]
  },
  {
   "cell_type": "code",
   "execution_count": 34,
   "id": "e556a0e9-2e9c-453d-ae95-d5eabb808665",
   "metadata": {},
   "outputs": [],
   "source": [
    "def homogeneous_poisson(rate, bin_size, tmax): \n",
    "    nbins = np.floor(tmax/bin_size).astype(np.int32)\n",
    "    spike_probability = rate * bin_size\n",
    "    spikes = np.random.rand(nbins) < spike_probability\n",
    "    return spikes * 1"
   ]
  },
  {
   "cell_type": "code",
   "execution_count": 35,
   "id": "feeb4201-7f67-49f4-9eea-08c7000ac5e6",
   "metadata": {},
   "outputs": [
    {
     "data": {
      "text/plain": [
       "Text(0.5, 0, 'Time (ms)')"
      ]
     },
     "execution_count": 35,
     "metadata": {},
     "output_type": "execute_result"
    },
    {
     "data": {
      "image/png": "[encoded data removed]",
      "text/plain": [
       "<Figure size 432x288 with 1 Axes>"
      ]
     },
     "metadata": {
      "needs_background": "light"
     },
     "output_type": "display_data"
    }
   ],
   "source": [
    "spikes_poisson = homogeneous_poisson(rate, bin_size, tmax)\n",
    "time = np.arange(len(spikes_poisson)) * bin_size\n",
    "plt.plot(time, spikes_poisson)\n",
    "plt.xlabel('Time (ms)')"
   ]
  },
  {
   "cell_type": "markdown",
   "id": "92301fd1-a888-46eb-bb02-ccb345a2febe",
   "metadata": {},
   "source": [
    "# Spike Counts with N trials"
   ]
  },
  {
   "cell_type": "code",
   "execution_count": 37,
   "id": "c5e85bdd-b05c-4500-8371-af2cd7ba7961",
   "metadata": {},
   "outputs": [],
   "source": [
    "n_trials = 100000\n",
    "n_spikes = []\n",
    "for i in range(n_trials):\n",
    "    spikes = homogeneous_poisson(rate, bin_size, tmax)\n",
    "    spikes = np.sum(spikes)\n",
    "    n_spikes.append(spikes)"
   ]
  },
  {
   "cell_type": "code",
   "execution_count": 38,
   "id": "efc7d54c-8751-4248-8f72-52f9345e9ad3",
   "metadata": {},
   "outputs": [
    {
     "data": {
      "text/plain": [
       "Text(0, 0.5, 'number of realisations')"
      ]
     },
     "execution_count": 38,
     "metadata": {},
     "output_type": "execute_result"
    },
    {
     "data": {
      "image/png": "[encoded data removed]",
      "text/plain": [
       "<Figure size 432x288 with 1 Axes>"
      ]
     },
     "metadata": {
      "needs_background": "light"
     },
     "output_type": "display_data"
    }
   ],
   "source": [
    "\n",
    "n_spikes = np.array(n_spikes)\n",
    "bin_edges = np.arange(n_spikes.max() + 1) - 0.5\n",
    "\n",
    "plt.hist(n_spikes, bin_edges);\n",
    "plt.xlabel('spike counts')\n",
    "plt.ylabel('number of realisations')"
   ]
  },
  {
   "cell_type": "code",
   "execution_count": null,
   "id": "50516eb2-3e7a-4d1b-ae4d-fbe79bf08b7a",
   "metadata": {},
   "outputs": [],
   "source": []
  }
 ],
 "metadata": {
  "kernelspec": {
   "display_name": "Python 3 (ipykernel)",
   "language": "python",
   "name": "python3"
  },
  "language_info": {
   "codemirror_mode": {
    "name": "ipython",
    "version": 3
   },
   "file_extension": ".py",
   "mimetype": "text/x-python",
   "name": "python",
   "nbconvert_exporter": "python",
   "pygments_lexer": "ipython3",
   "version": "3.10.12"
  }
 },
 "nbformat": 4,
 "nbformat_minor": 5
}
