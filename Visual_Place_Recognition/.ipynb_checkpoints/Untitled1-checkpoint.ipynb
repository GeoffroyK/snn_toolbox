{
 "cells": [
  {
   "cell_type": "code",
   "execution_count": 1,
   "id": "a9a0a42a-717b-4cef-9a06-95a171e9b91c",
   "metadata": {},
   "outputs": [],
   "source": [
    "import torch\n",
    "import torch.nn as nn\n",
    "import numpy as np\n",
    "import matplotlib.pyplot as plt\n",
    "import matplotlib.animation as animation\n",
    "\n",
    "from tqdm import tqdm\n",
    "from utils.image_processing import processSingleImage\n",
    "from spikingjelly.activation_based import neuron, learning, encoding, functional"
   ]
  },
  {
   "cell_type": "code",
   "execution_count": 6,
   "id": "2621150d-3fbb-470b-8292-deb3f0e99e64",
   "metadata": {},
   "outputs": [],
   "source": [
    "''' Parameters '''\n",
    "n_in = 28 * 28\n",
    "n_out = 5\n",
    "\n",
    "decay_lif = 2.\n",
    "epochs = 100\n",
    "T = 70\n",
    "lr = 1e-3\n",
    "tau_pre = 60.\n",
    "tau_post = 20.\n",
    "ap = 1.0\n",
    "am = 0.5\n",
    "threshold = 1.\n",
    "w_mean = 0.3\n",
    "std = 0.15"
   ]
  },
  {
   "cell_type": "code",
   "execution_count": 28,
   "id": "83b79442-8e02-4bb5-9b16-4c0c35e33b58",
   "metadata": {},
   "outputs": [],
   "source": [
    "def stdp_training(net, epochs, learner, optimizer, encoder, training_data):\n",
    "    device = torch.device('cuda' if torch.cuda.is_available() else 'cpu')\n",
    "    pbar = tqdm(\n",
    "        desc=f\"VPR SNN Trainig on {device}\",\n",
    "        total=epochs,\n",
    "        position=0\n",
    "    )\n",
    "    weights = []\n",
    "    for _ in range(epochs):\n",
    "        for img in training_data:\n",
    "            if type(encoder) == encoding.LatencyEncoder:\n",
    "                for _ in range(encoder.T):\n",
    "                    net[1].weight.data = net[1].weight.data.clamp(0,1)\n",
    "                    weights.append(net[1].weight[0].data.detach().clone().numpy())\n",
    "                    encoded_img = encoder(img)\n",
    "                    s_out = net(encoded_img)\n",
    "                    optimizer.step()\n",
    "                    learner.step(on_grad=True)\n",
    "                encoder.reset() # Reset stateful encoder\n",
    "            else: #PoissonEncoder\n",
    "                encoded_img = encoder(img)\n",
    "                s_out = net(encoded_img)\n",
    "                optimizer.step()\n",
    "                learner.step(on_grad=True)\n",
    "        pbar.update(1)\n",
    "    pbar.close()\n",
    "    return weights"
   ]
  },
  {
   "cell_type": "code",
   "execution_count": 29,
   "id": "399d1950-e14d-4d2a-9d90-765b453ef857",
   "metadata": {},
   "outputs": [],
   "source": [
    "def get_training_data():\n",
    "    training_data = []\n",
    "    img = processSingleImage(\"/home/geoffroy/images-00000.png\", 28, 28, 7)\n",
    "    img = torch.from_numpy(img).float()\n",
    "    img = img.unsqueeze(0)\n",
    "    training_data.append(img)\n",
    "    return training_data"
   ]
  },
  {
   "cell_type": "code",
   "execution_count": 30,
   "id": "747d2726-c055-44a6-a6a5-95a88a8facfd",
   "metadata": {},
   "outputs": [
    {
     "name": "stdout",
     "output_type": "stream",
     "text": [
      "Sequential(\n",
      "  (0): Flatten(start_dim=1, end_dim=-1)\n",
      "  (1): Linear(in_features=784, out_features=5, bias=False)\n",
      "  (2): LIFNode(\n",
      "    v_threshold=1.0, v_reset=0.0, detach_reset=False, step_mode=s, backend=torch, tau=2.0\n",
      "    (surrogate_function): Sigmoid(alpha=4.0, spiking=True)\n",
      "  )\n",
      ")\n"
     ]
    },
    {
     "name": "stderr",
     "output_type": "stream",
     "text": [
      "VPR SNN Trainig on cpu:   3%|▌                  | 3/100 [00:00<00:03, 25.33it/s]"
     ]
    },
    {
     "name": "stdout",
     "output_type": "stream",
     "text": [
      "torch.Size([5, 784])\n"
     ]
    },
    {
     "name": "stderr",
     "output_type": "stream",
     "text": [
      "VPR SNN Trainig on cpu:   0%|                           | 0/100 [01:29<?, ?it/s]\n",
      "VPR SNN Trainig on cpu: 100%|█████████████████| 100/100 [00:02<00:00, 46.70it/s]\n"
     ]
    }
   ],
   "source": [
    "def f_pre(x):\n",
    "    return torch.clamp(x, 0, ap)\n",
    "    #return torch.clamp(x, 0, 1)\n",
    "\n",
    "def f_post(x):\n",
    "    return torch.clamp(x, 0, am)\n",
    "    #return torch.clamp(x, 0, 1)\n",
    "\n",
    "net = nn.Sequential(\n",
    "    nn.Flatten(),\n",
    "    nn.Linear(n_in, n_out, bias=False),\n",
    "    neuron.LIFNode(tau=decay_lif, v_threshold=threshold)\n",
    ")\n",
    "\n",
    "print(net)\n",
    "\n",
    "net[1].weight.data = nn.init.normal_(net[1].weight.data, mean=0.6, std=0.15)\n",
    "encoder = encoding.LatencyEncoder(T)\n",
    "stdp_learner = learning.STDPLearner(\n",
    "    synapse=net[1],\n",
    "    sn=net[2],\n",
    "    tau_pre=tau_pre,\n",
    "    tau_post=tau_post,\n",
    "    f_pre=f_pre,\n",
    "    f_post=f_post,\n",
    "    step_mode='s'\n",
    ")\n",
    "stdp_optimizer = torch.optim.SGD(net[1].parameters(), lr=lr, momentum=0.)\n",
    "\n",
    "training_data = get_training_data()\n",
    "\n",
    "weights = stdp_training(net, epochs, stdp_learner, stdp_optimizer, encoder, training_data)\n",
    "\n",
    "functional.reset_net(net)\n",
    "stdp_learner.reset()"
   ]
  },
  {
   "cell_type": "code",
   "execution_count": 47,
   "id": "294829d4-1400-425c-bb18-c07ef0056cf3",
   "metadata": {},
   "outputs": [
    {
     "data": {
      "image/png": "[encoded data removed]",
      "text/plain": [
       "<Figure size 432x288 with 1 Axes>"
      ]
     },
     "metadata": {
      "needs_background": "light"
     },
     "output_type": "display_data"
    },
    {
     "name": "stderr",
     "output_type": "stream",
     "text": [
      "VPR SNN Trainig on cpu:   0%|                           | 0/100 [01:46<?, ?it/s]\n",
      "VPR SNN Trainig on cpu:   0%|                           | 0/100 [00:15<?, ?it/s]\n"
     ]
    }
   ],
   "source": [
    "plt.imshow(net[1].weight.data.reshape(28,28), cmap=\"gray\")\n",
    "plt.title(\"Weights of the network after training\")\n",
    "plt.show()"
   ]
  },
  {
   "cell_type": "code",
   "execution_count": 304,
   "id": "c4417321-ed1a-4436-893b-d98dede829dc",
   "metadata": {},
   "outputs": [
    {
     "data": {
      "image/png": "[encoded data removed]",
      "text/plain": [
       "<Figure size 432x288 with 1 Axes>"
      ]
     },
     "metadata": {
      "needs_background": "light"
     },
     "output_type": "display_data"
    }
   ],
   "source": [
    "a = net[1].weight.data[0]\n",
    "b = (a - min(a)) / (max(a) - min(a))\n",
    "plt.imshow(b.reshape(28,28), cmap=\"gray\")\n",
    "plt.show()"
   ]
  },
  {
   "cell_type": "code",
   "execution_count": 305,
   "id": "6ee75b41-3bc9-4e72-83ff-d4b91a75f340",
   "metadata": {},
   "outputs": [
    {
     "data": {
      "image/png": "[encoded data removed]",
      "text/plain": [
       "<Figure size 432x288 with 1 Axes>"
      ]
     },
     "metadata": {
      "needs_background": "light"
     },
     "output_type": "display_data"
    }
   ],
   "source": [
    "weights = np.array(weights)\n",
    "plt.plot(weights)\n",
    "plt.show()"
   ]
  },
  {
   "cell_type": "code",
   "execution_count": null,
   "id": "6e1d657e-65a3-482c-a927-5a16d2be9f1a",
   "metadata": {},
   "outputs": [],
   "source": []
  }
 ],
 "metadata": {
  "kernelspec": {
   "display_name": "Python 3 (ipykernel)",
   "language": "python",
   "name": "python3"
  },
  "language_info": {
   "codemirror_mode": {
    "name": "ipython",
    "version": 3
   },
   "file_extension": ".py",
   "mimetype": "text/x-python",
   "name": "python",
   "nbconvert_exporter": "python",
   "pygments_lexer": "ipython3",
   "version": "3.10.12"
  }
 },
 "nbformat": 4,
 "nbformat_minor": 5
}
