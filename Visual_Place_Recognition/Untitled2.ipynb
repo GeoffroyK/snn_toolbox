{
 "cells": [
  {
   "cell_type": "code",
   "execution_count": 7,
   "id": "19b78b6e-a36e-44bd-b9e1-3c478ba96f73",
   "metadata": {},
   "outputs": [],
   "source": [
    "import torch\n",
    "import torch.nn as nn\n",
    "import numpy as np\n",
    "from spikingjelly.activation_based import functional, learning, neuron"
   ]
  },
  {
   "cell_type": "code",
   "execution_count": 8,
   "id": "a9164622-4a07-4c7d-9d16-43fa3b0989ae",
   "metadata": {},
   "outputs": [
    {
     "data": {
      "text/plain": [
       "Sequential(\n",
       "  (0): Linear(in_features=1, out_features=1, bias=False)\n",
       "  (1): IFNode(\n",
       "    v_threshold=1.0, v_reset=0.0, detach_reset=False, step_mode=s, backend=torch\n",
       "    (surrogate_function): Sigmoid(alpha=4.0, spiking=True)\n",
       "  )\n",
       ")"
      ]
     },
     "execution_count": 8,
     "metadata": {},
     "output_type": "execute_result"
    }
   ],
   "source": [
    "n_in = 1\n",
    "n_out = 1\n",
    "T = 10\n",
    "\n",
    "net = nn.Sequential(\n",
    "    nn.Linear(n_in, n_out, bias=False),\n",
    "    neuron.IFNode()\n",
    ")\n",
    "\n",
    "net[0].weight.data = nn.init.normal_(net[0].weight.data, mean=0.8, std=0.1)\n",
    "\n",
    "net"
   ]
  },
  {
   "cell_type": "code",
   "execution_count": 9,
   "id": "46696eab-fcbb-4246-b77a-5e3f3def0d4d",
   "metadata": {},
   "outputs": [
    {
     "data": {
      "text/plain": [
       "torch.Size([10, 1, 1])"
      ]
     },
     "execution_count": 9,
     "metadata": {},
     "output_type": "execute_result"
    }
   ],
   "source": [
    "s_pre = torch.ones((T,n_in, n_out))\n",
    "s_pre.shape"
   ]
  },
  {
   "cell_type": "code",
   "execution_count": 10,
   "id": "15d09a56-a1d7-458a-b3dd-5e573a471680",
   "metadata": {},
   "outputs": [
    {
     "data": {
      "text/plain": [
       "tensor([[[0.]],\n",
       "\n",
       "        [[0.]],\n",
       "\n",
       "        [[0.]],\n",
       "\n",
       "        [[0.]],\n",
       "\n",
       "        [[0.]],\n",
       "\n",
       "        [[0.]],\n",
       "\n",
       "        [[0.]],\n",
       "\n",
       "        [[0.]],\n",
       "\n",
       "        [[0.]],\n",
       "\n",
       "        [[0.]]], grad_fn=<sigmoidBackward>)"
      ]
     },
     "execution_count": 10,
     "metadata": {},
     "output_type": "execute_result"
    }
   ],
   "source": [
    "net(s_pre)"
   ]
  },
  {
   "cell_type": "code",
   "execution_count": 11,
   "id": "5a272bea-5221-4fdc-80e2-dc398f9626cf",
   "metadata": {},
   "outputs": [],
   "source": [
    "functional.reset_net(net)"
   ]
  },
  {
   "cell_type": "code",
   "execution_count": 12,
   "id": "3cbaba4f-c491-452c-ba81-0352479ee28a",
   "metadata": {},
   "outputs": [],
   "source": [
    "# Weight control for Long Term Potentiation (LTP)\n",
    "def f_pre(x):\n",
    "    return torch.clamp(x,0,0.02)\n",
    "\n",
    "# Weight control for Long Term Depression (LTD)\n",
    "def f_post(x):\n",
    "    return torch.clamp(x,0,0.08)\n",
    "\n",
    "# Define STDP Learner\n",
    "learner = learning.STDPLearner(\n",
    "    step_mode='s',\n",
    "    synapse=net[0],\n",
    "    sn=net[1],\n",
    "    tau_pre=2,\n",
    "    tau_post=2,\n",
    "    f_pre=f_pre,\n",
    "    f_post=f_post\n",
    ")\n",
    "\n",
    "# Define Optimizer for STDP\n",
    "stdp_optimizer = torch.optim.SGD(net[0].parameters(), lr=1, momentum=0.)"
   ]
  },
  {
   "cell_type": "code",
   "execution_count": 13,
   "id": "1a330b42-20d5-44bb-9112-0568b37013bc",
   "metadata": {},
   "outputs": [],
   "source": [
    "s_post = []\n",
    "w = []\n",
    "trace_pre = []\n",
    "trace_post = []\n",
    "potential = []\n",
    "\n",
    "for t in range(T):\n",
    "    s_post.append(net(s_pre[t]).detach().numpy().squeeze(0))\n",
    "    stdp_optimizer.step()\n",
    "    learner.step(on_grad=True)\n",
    "\n",
    "    trace_post.append(learner.trace_post.item())\n",
    "    trace_pre.append(learner.trace_pre.item())\n",
    "    w.append(net[0].weight.item())\n",
    "    potential.append(net[1].v.detach().numpy().squeeze(0))"
   ]
  },
  {
   "cell_type": "code",
   "execution_count": 14,
   "id": "8d756e79-7d24-464a-9827-912833d64e88",
   "metadata": {},
   "outputs": [
    {
     "data": {
      "image/png": "[encoded data removed]",
      "text/plain": [
       "<Figure size 720x432 with 6 Axes>"
      ]
     },
     "metadata": {
      "needs_background": "light"
     },
     "output_type": "display_data"
    }
   ],
   "source": [
    "import matplotlib.pyplot as plt\n",
    "\n",
    "threshold=1\n",
    "\n",
    "fig = plt.figure(figsize=(10, 6))\n",
    "plt.suptitle(\"STDP, lr=1.\")\n",
    "\n",
    "s_pre = s_pre[:, 0].numpy()\n",
    "s_post = np.array(s_post)\n",
    "\n",
    "t = np.arange(0, T)\n",
    "plt.subplot(6, 1, 1)\n",
    "plt.eventplot((t * s_pre[:, 0])[s_pre[:, 0] == 1.], lineoffsets=0, colors='r')\n",
    "plt.yticks([])\n",
    "plt.ylabel('$S_{pre}$', rotation=0, labelpad=10)\n",
    "plt.xticks([])\n",
    "plt.xlim(0, T)\n",
    "plt.subplot(6, 1, 2)\n",
    "plt.plot(t, trace_pre, c='orange')\n",
    "plt.ylabel('$tr_{pre}$', rotation=0, labelpad=10)\n",
    "plt.xticks([])\n",
    "plt.xlim(0, T)\n",
    "\n",
    "plt.subplot(6, 1, 3)\n",
    "spike_times = [i for i, x in enumerate(s_post[:]) if x == 1]\n",
    "plt.eventplot(spike_times,lineoffsets=0, linewidths=1., colors='g', label=\"neuron2\")\n",
    "plt.yticks([])\n",
    "plt.ylabel('$S_{post}$', rotation=0, labelpad=10)\n",
    "plt.xticks([])\n",
    "plt.xlim(0, T)\n",
    "plt.subplot(6, 1, 4)\n",
    "plt.plot(t, trace_post)\n",
    "plt.ylabel('$tr_{post}$', rotation=0, labelpad=10)\n",
    "plt.xticks([])\n",
    "plt.xlim(0, T)\n",
    "plt.subplot(6, 1, 5)\n",
    "plt.plot(t, w, c='purple')\n",
    "plt.ylabel('$w$', rotation=0, labelpad=10)\n",
    "plt.xlim(0, T)\n",
    "plt.subplot(6,1,6)\n",
    "plt.plot(potential, c='green')\n",
    "plt.plot([0., T-1], [threshold, threshold], \"k--\", label=\"threshold\")\n",
    "\n",
    "plt.show()"
   ]
  },
  {
   "cell_type": "code",
   "execution_count": null,
   "id": "f9878a02-3622-423c-b98c-5510bd3739a0",
   "metadata": {},
   "outputs": [],
   "source": []
  },
  {
   "cell_type": "code",
   "execution_count": null,
   "id": "a26f82d5-d6c3-45b6-a336-1418c41dad20",
   "metadata": {},
   "outputs": [],
   "source": []
  }
 ],
 "metadata": {
  "kernelspec": {
   "display_name": "Python 3 (ipykernel)",
   "language": "python",
   "name": "python3"
  },
  "language_info": {
   "codemirror_mode": {
    "name": "ipython",
    "version": 3
   },
   "file_extension": ".py",
   "mimetype": "text/x-python",
   "name": "python",
   "nbconvert_exporter": "python",
   "pygments_lexer": "ipython3",
   "version": "3.10.12"
  }
 },
 "nbformat": 4,
 "nbformat_minor": 5
}
