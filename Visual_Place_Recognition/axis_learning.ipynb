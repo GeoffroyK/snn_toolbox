{
 "cells": [
  {
   "cell_type": "markdown",
   "id": "21961919-d196-4677-954e-ca546e5fc763",
   "metadata": {},
   "source": [
    "## Learning of two visual orientations using spiking neural networks"
   ]
  },
  {
   "cell_type": "code",
   "execution_count": 8,
   "id": "0f86a756-0b82-4a56-952a-d7193bd0427b",
   "metadata": {},
   "outputs": [],
   "source": [
    "import numpy as np\n",
    "import torch\n",
    "import torch.nn as nn\n",
    "from spikingjelly.activation_based import neuron, encoding\n",
    "from utils.image_processing import processSingleImage\n",
    "import matplotlib.pyplot as plt\n",
    "from utils.plasticity import STDPLearner\n",
    "import cv2"
   ]
  },
  {
   "cell_type": "code",
   "execution_count": 9,
   "id": "a11cb4a6-827e-4c37-b096-69b958341c2d",
   "metadata": {},
   "outputs": [],
   "source": [
    "def dummy_image_processing(img):\n",
    "    # Open CV is kinda shit ngl\n",
    "    img = img / 255.\n",
    "    for i in range(img.shape[0]):\n",
    "        for j in range(img.shape[1]):\n",
    "            if img[i][j] != 1 or 0:\n",
    "                if img[i][j] > 0.1:\n",
    "                    img[i][j] = 1\n",
    "                else:\n",
    "                    img[i][j] = 0\n",
    "    return img"
   ]
  },
  {
   "cell_type": "markdown",
   "id": "98b7357c-d266-4cbd-96ca-0ae21245c9ce",
   "metadata": {},
   "source": [
    "## Network Architecture"
   ]
  },
  {
   "cell_type": "code",
   "execution_count": 46,
   "id": "f8435159-25e0-4dbf-90c5-b4020f571bd9",
   "metadata": {},
   "outputs": [],
   "source": [
    "class VPR(nn.Module):\n",
    "    def __init__(self, tau, *args, **kwargs) -> None:\n",
    "        super().__init__(*args, **kwargs)\n",
    "\n",
    "        self.layer = nn.Sequential(\n",
    "            nn.Flatten(start_dim=0, end_dim=-1),\n",
    "            nn.Linear(28 * 28, 2, bias=False),\n",
    "            neuron.LIFNode(tau=2., v_threshold=0.2)\n",
    "        )\n",
    "\n",
    "    def forward(self, x: torch.Tensor) -> nn.Sequential:\n",
    "        return self.layer(x)"
   ]
  },
  {
   "cell_type": "markdown",
   "id": "cd0b3dc5-8729-4934-82cf-189d462edcd7",
   "metadata": {},
   "source": [
    "## Define Learning functions and parameters"
   ]
  },
  {
   "cell_type": "code",
   "execution_count": 47,
   "id": "e75ff411-c1e3-46cc-ad85-d68a0a21606a",
   "metadata": {},
   "outputs": [],
   "source": [
    "def f_pre(x):\n",
    "    return torch.clamp(x, -1, 1.)\n",
    "\n",
    "def f_post(x):\n",
    "    return torch.clamp(x, -1, 1.)\n",
    "\n",
    "start_epoch = 0\n",
    "epoch = 200\n",
    "tau_pre = 5.\n",
    "tau_post = 5.\n",
    "lr = 0.001\n",
    "T = 100\n",
    "w_min, w_max = -1., 1.\n",
    "\n",
    "N_out = 2\n",
    "N_in = 784"
   ]
  },
  {
   "cell_type": "markdown",
   "id": "43b216ab-2d2a-4429-ab68-80bada270f14",
   "metadata": {},
   "source": [
    "## Instance of the Network"
   ]
  },
  {
   "cell_type": "code",
   "execution_count": 48,
   "id": "7ed6ffc2-2efb-41f5-9487-f0995a502cfa",
   "metadata": {},
   "outputs": [],
   "source": [
    "net = VPR(tau=2.)\n",
    "encoder = encoding.PoissonEncoder() # Poison encoder for spike train creation using pixel intensity\n",
    "learner = STDPLearner(synapse=net.layer[1], tau_pre=tau_pre, tau_post=tau_post,learning_rate=lr, f_post=f_post, f_pre=f_pre)"
   ]
  },
  {
   "cell_type": "markdown",
   "id": "f2f319da-3d3d-4ed7-8605-6b79260ee839",
   "metadata": {},
   "source": [
    "## Read Image from the Nordland dataset"
   ]
  },
  {
   "cell_type": "code",
   "execution_count": 49,
   "id": "ecb10882-3396-4bbe-b951-3b34586d7cc3",
   "metadata": {},
   "outputs": [
    {
     "data": {
      "image/png": "[encoded data removed]",
      "text/plain": [
       "<Figure size 432x288 with 1 Axes>"
      ]
     },
     "metadata": {
      "needs_background": "light"
     },
     "output_type": "display_data"
    },
    {
     "data": {
      "image/png": "[encoded data removed]",
      "text/plain": [
       "<Figure size 432x288 with 1 Axes>"
      ]
     },
     "metadata": {
      "needs_background": "light"
     },
     "output_type": "display_data"
    }
   ],
   "source": [
    "images = []\n",
    "imgPaths = []\n",
    "imgPaths.append(\"../Dummy_Inputs/dummy_inputs/1.jpg\")\n",
    "imgPaths.append(\"../Dummy_Inputs/dummy_inputs/14.jpg\")\n",
    "\n",
    "for i in range(len(imgPaths)):\n",
    "    img = cv2.imread(imgPaths[i], cv2.IMREAD_GRAYSCALE)\n",
    "    img = dummy_image_processing(img)\n",
    "    images.append(img)\n",
    "for i in range(len(images)):\n",
    "    plt.figure()\n",
    "    plt.imshow(images[i], cmap=\"gray\")\n",
    "    plt.title(\"Image \"+str(i))"
   ]
  },
  {
   "cell_type": "code",
   "execution_count": 50,
   "id": "cd8d3e7a-65a6-4741-890d-8c594780cfc7",
   "metadata": {},
   "outputs": [],
   "source": [
    "for i in range(len(images)):\n",
    "    images[i] = torch.from_numpy(images[i])"
   ]
  },
  {
   "cell_type": "code",
   "execution_count": 51,
   "id": "05888514-1c96-4b35-9522-d24ffd8f9da5",
   "metadata": {},
   "outputs": [],
   "source": [
    "\n",
    "# For plotting \n",
    "in_spike = []\n",
    "out_spike = []\n",
    "trace_pre = []\n",
    "trace_post = np.zeros((len(images),N_out,T))\n",
    "weights = np.zeros((len(images),N_out,T))\n",
    "index = 0\n",
    "\n",
    "for img in images:\n",
    "    for t in range(T):\n",
    "        encoded_img = encoder(img)\n",
    "    \n",
    "        # Pre and post spikes, after forward\n",
    "        in_spike.append(encoded_img[14][14].numpy())\n",
    "        out_spike.append(net(encoded_img.float()).detach().numpy())\n",
    "    \n",
    "        # Torch Input processing for STDP \n",
    "        s_pre = torch.from_numpy(np.expand_dims(net.layer[0](encoded_img.float()), axis=0))\n",
    "        s_post = torch.from_numpy(np.expand_dims(out_spike[t], axis=0))\n",
    "        \n",
    "        # # Forced Inhibition \n",
    "        # for spike in range(len(out_spike[index])):\n",
    "        #     if out_spike[index][spike] == 1:\n",
    "        #         print(\"Spike on neuron #\", spike+1)\n",
    "        #         out_spike = np.zeros(len(out_spike))\n",
    "        #         out_spike[spike] = 1\n",
    "        #         break\n",
    "\n",
    "        # STDP step\n",
    "        learner.single_step(s_pre, s_post)\n",
    "    \n",
    "        # Plotting \n",
    "        trace_pre.append(learner.trace_pre[0][0].numpy())\n",
    "        for i in range(N_out):\n",
    "            weights[index][i][t] = net.layer[1].weight[i][0].detach().numpy()\n",
    "            trace_post[index][i][t] = learner.trace_post[0][i].numpy()\n"
   ]
  },
  {
   "cell_type": "code",
   "execution_count": 52,
   "id": "1040da7a-a7ad-409e-9b5e-520a312a00ce",
   "metadata": {},
   "outputs": [
    {
     "data": {
      "text/plain": [
       "(0.0, 100.0)"
      ]
     },
     "execution_count": 52,
     "metadata": {},
     "output_type": "execute_result"
    },
    {
     "data": {
      "image/png": "[encoded data removed]",
      "text/plain": [
       "<Figure size 432x288 with 2 Axes>"
      ]
     },
     "metadata": {},
     "output_type": "display_data"
    },
    {
     "data": {
      "image/png": "[encoded data removed]",
      "text/plain": [
       "<Figure size 432x288 with 2 Axes>"
      ]
     },
     "metadata": {},
     "output_type": "display_data"
    }
   ],
   "source": [
    "t = np.arange(0, T)\n",
    "out_spike = np.array(out_spike)\n",
    "\n",
    "neuron1 = out_spike[:,0]\n",
    "neuron2 = out_spike[:,1]\n",
    "\n",
    "plt.figure()\n",
    "plt.subplot(4,2,1)\n",
    "plt.eventplot(t * in_spike[0:T], lineoffsets=0, linewidths=0.5, colors='r')\n",
    "plt.yticks([])\n",
    "plt.ylabel('$S_{pre}$', rotation=0, labelpad=10)\n",
    "plt.xticks([])\n",
    "plt.xlim(0, T)\n",
    "\n",
    "plt.subplot(4,2,2)\n",
    "plt.plot(t, trace_pre[0:T], c=\"green\")\n",
    "plt.yticks([])\n",
    "plt.ylabel('$T_{pre}$', rotation=0, labelpad=10)\n",
    "plt.xticks([])\n",
    "plt.xlim(0, T)\n",
    "\n",
    "plt.figure()\n",
    "plt.subplot(4,2,3)\n",
    "plt.eventplot(t * neuron2[0:T], lineoffsets=0, linewidths=0.5)\n",
    "plt.yticks([])\n",
    "plt.ylabel('$S_{out} N$', rotation=0, labelpad=10)\n",
    "plt.xticks([])\n",
    "plt.xlim(0, T)\n",
    "\n",
    "plt.subplot(4,2,4)\n",
    "plt.plot(t, trace_post[0][0], c=\"green\")\n",
    "plt.yticks([])\n",
    "plt.ylabel('$T_{post} N_1$', rotation=0, labelpad=10)\n",
    "plt.xticks([])\n",
    "plt.xlim(0, T)"
   ]
  },
  {
   "cell_type": "code",
   "execution_count": null,
   "id": "d9d9df00-2438-49c6-8083-12c18ae9c8f9",
   "metadata": {},
   "outputs": [],
   "source": []
  }
 ],
 "metadata": {
  "kernelspec": {
   "display_name": "Python 3 (ipykernel)",
   "language": "python",
   "name": "python3"
  },
  "language_info": {
   "codemirror_mode": {
    "name": "ipython",
    "version": 3
   },
   "file_extension": ".py",
   "mimetype": "text/x-python",
   "name": "python",
   "nbconvert_exporter": "python",
   "pygments_lexer": "ipython3",
   "version": "3.10.12"
  }
 },
 "nbformat": 4,
 "nbformat_minor": 5
}
